{
 "cells": [
  {
   "cell_type": "markdown",
   "id": "4cdbbd1c",
   "metadata": {
    "papermill": {
     "duration": 0.006759,
     "end_time": "2022-08-15T16:50:08.381615",
     "exception": false,
     "start_time": "2022-08-15T16:50:08.374856",
     "status": "completed"
    },
    "tags": []
   },
   "source": [
    "**This notebook is an exercise in the [Data Cleaning](https://www.kaggle.com/learn/data-cleaning) course.  You can reference the tutorial at [this link](https://www.kaggle.com/alexisbcook/inconsistent-data-entry).**\n",
    "\n",
    "---\n"
   ]
  },
  {
   "cell_type": "markdown",
   "id": "4a91bbda",
   "metadata": {
    "papermill": {
     "duration": 0.004929,
     "end_time": "2022-08-15T16:50:08.392061",
     "exception": false,
     "start_time": "2022-08-15T16:50:08.387132",
     "status": "completed"
    },
    "tags": []
   },
   "source": [
    "In this exercise, you'll apply what you learned in the **Inconsistent data entry** tutorial.\n",
    "\n",
    "# Setup\n",
    "\n",
    "The questions below will give you feedback on your work. Run the following cell to set up the feedback system."
   ]
  },
  {
   "cell_type": "code",
   "execution_count": 1,
   "id": "6e3df925",
   "metadata": {
    "execution": {
     "iopub.execute_input": "2022-08-15T16:50:08.404618Z",
     "iopub.status.busy": "2022-08-15T16:50:08.404115Z",
     "iopub.status.idle": "2022-08-15T16:50:08.507376Z",
     "shell.execute_reply": "2022-08-15T16:50:08.506147Z"
    },
    "papermill": {
     "duration": 0.113016,
     "end_time": "2022-08-15T16:50:08.510335",
     "exception": false,
     "start_time": "2022-08-15T16:50:08.397319",
     "status": "completed"
    },
    "tags": []
   },
   "outputs": [
    {
     "name": "stdout",
     "output_type": "stream",
     "text": [
      "Setup Complete\n"
     ]
    }
   ],
   "source": [
    "from learntools.core import binder\n",
    "binder.bind(globals())\n",
    "from learntools.data_cleaning.ex5 import *\n",
    "print(\"Setup Complete\")"
   ]
  },
  {
   "cell_type": "markdown",
   "id": "93d9e7b1",
   "metadata": {
    "papermill": {
     "duration": 0.00495,
     "end_time": "2022-08-15T16:50:08.520682",
     "exception": false,
     "start_time": "2022-08-15T16:50:08.515732",
     "status": "completed"
    },
    "tags": []
   },
   "source": [
    "# Get our environment set up\n",
    "\n",
    "The first thing we'll need to do is load in the libraries and dataset we'll be using.  We use the same dataset from the tutorial."
   ]
  },
  {
   "cell_type": "code",
   "execution_count": 2,
   "id": "0d67532f",
   "metadata": {
    "execution": {
     "iopub.execute_input": "2022-08-15T16:50:08.532902Z",
     "iopub.status.busy": "2022-08-15T16:50:08.532478Z",
     "iopub.status.idle": "2022-08-15T16:50:08.553674Z",
     "shell.execute_reply": "2022-08-15T16:50:08.552548Z"
    },
    "papermill": {
     "duration": 0.030599,
     "end_time": "2022-08-15T16:50:08.556325",
     "exception": false,
     "start_time": "2022-08-15T16:50:08.525726",
     "status": "completed"
    },
    "tags": []
   },
   "outputs": [],
   "source": [
    "# modules we'll use\n",
    "import pandas as pd\n",
    "import numpy as np\n",
    "\n",
    "# helpful modules\n",
    "import fuzzywuzzy\n",
    "from fuzzywuzzy import process\n",
    "import chardet\n",
    "\n",
    "# read in all our data\n",
    "professors = pd.read_csv(\"../input/pakistan-intellectual-capital/pakistan_intellectual_capital.csv\")\n",
    "\n",
    "# set seed for reproducibility\n",
    "np.random.seed(0)"
   ]
  },
  {
   "cell_type": "markdown",
   "id": "ca73f796",
   "metadata": {
    "papermill": {
     "duration": 0.005335,
     "end_time": "2022-08-15T16:50:08.567498",
     "exception": false,
     "start_time": "2022-08-15T16:50:08.562163",
     "status": "completed"
    },
    "tags": []
   },
   "source": [
    "Next, we'll redo all of the work that we did in the tutorial."
   ]
  },
  {
   "cell_type": "code",
   "execution_count": 3,
   "id": "7b932fed",
   "metadata": {
    "execution": {
     "iopub.execute_input": "2022-08-15T16:50:08.581102Z",
     "iopub.status.busy": "2022-08-15T16:50:08.579879Z",
     "iopub.status.idle": "2022-08-15T16:50:08.594466Z",
     "shell.execute_reply": "2022-08-15T16:50:08.593625Z"
    },
    "papermill": {
     "duration": 0.025263,
     "end_time": "2022-08-15T16:50:08.598204",
     "exception": false,
     "start_time": "2022-08-15T16:50:08.572941",
     "status": "completed"
    },
    "tags": []
   },
   "outputs": [
    {
     "name": "stdout",
     "output_type": "stream",
     "text": [
      "All done!\n"
     ]
    }
   ],
   "source": [
    "# convert to lower case\n",
    "professors['Country'] = professors['Country'].str.lower()\n",
    "# remove trailing white spaces\n",
    "professors['Country'] = professors['Country'].str.strip()\n",
    "\n",
    "# get the top 10 closest matches to \"south korea\"\n",
    "countries = professors['Country'].unique()\n",
    "matches = fuzzywuzzy.process.extract(\"south korea\", countries, limit=10, scorer=fuzzywuzzy.fuzz.token_sort_ratio)\n",
    "\n",
    "def replace_matches_in_column(df, column, string_to_match, min_ratio = 47):\n",
    "    # get a list of unique strings\n",
    "    strings = df[column].unique()\n",
    "    \n",
    "    # get the top 10 closest matches to our input string\n",
    "    matches = fuzzywuzzy.process.extract(string_to_match, strings, \n",
    "                                         limit=10, scorer=fuzzywuzzy.fuzz.token_sort_ratio)\n",
    "\n",
    "    # only get matches with a ratio > 90\n",
    "    close_matches = [matches[0] for matches in matches if matches[1] >= min_ratio]\n",
    "\n",
    "    # get the rows of all the close matches in our dataframe\n",
    "    rows_with_matches = df[column].isin(close_matches)\n",
    "\n",
    "    # replace all rows with close matches with the input matches \n",
    "    df.loc[rows_with_matches, column] = string_to_match\n",
    "    \n",
    "    # let us know the function's done\n",
    "    print(\"All done!\")\n",
    "    \n",
    "replace_matches_in_column(df=professors, column='Country', string_to_match=\"south korea\")\n",
    "countries = professors['Country'].unique()"
   ]
  },
  {
   "cell_type": "markdown",
   "id": "0c7bdd22",
   "metadata": {
    "papermill": {
     "duration": 0.005596,
     "end_time": "2022-08-15T16:50:08.610129",
     "exception": false,
     "start_time": "2022-08-15T16:50:08.604533",
     "status": "completed"
    },
    "tags": []
   },
   "source": [
    "# 1) Examine another column\n",
    "\n",
    "Write code below to take a look at all the unique values in the \"Graduated from\" column."
   ]
  },
  {
   "cell_type": "code",
   "execution_count": 4,
   "id": "e3de49c4",
   "metadata": {
    "execution": {
     "iopub.execute_input": "2022-08-15T16:50:08.623619Z",
     "iopub.status.busy": "2022-08-15T16:50:08.623010Z",
     "iopub.status.idle": "2022-08-15T16:50:08.628633Z",
     "shell.execute_reply": "2022-08-15T16:50:08.627434Z"
    },
    "papermill": {
     "duration": 0.015248,
     "end_time": "2022-08-15T16:50:08.631114",
     "exception": false,
     "start_time": "2022-08-15T16:50:08.615866",
     "status": "completed"
    },
    "tags": []
   },
   "outputs": [],
   "source": [
    "countries = professors['Graduated from'].unique()"
   ]
  },
  {
   "cell_type": "markdown",
   "id": "ad4e2e0e",
   "metadata": {
    "papermill": {
     "duration": 0.00525,
     "end_time": "2022-08-15T16:50:08.642083",
     "exception": false,
     "start_time": "2022-08-15T16:50:08.636833",
     "status": "completed"
    },
    "tags": []
   },
   "source": [
    "Do you notice any inconsistencies in the data?  Can any of the inconsistencies in the data be fixed by removing white spaces at the beginning and end of cells?\n",
    "\n",
    "Once you have answered these questions, run the code cell below to get credit for your work."
   ]
  },
  {
   "cell_type": "code",
   "execution_count": 5,
   "id": "d1623b30",
   "metadata": {
    "execution": {
     "iopub.execute_input": "2022-08-15T16:50:08.655029Z",
     "iopub.status.busy": "2022-08-15T16:50:08.654660Z",
     "iopub.status.idle": "2022-08-15T16:50:08.666253Z",
     "shell.execute_reply": "2022-08-15T16:50:08.665028Z"
    },
    "papermill": {
     "duration": 0.020843,
     "end_time": "2022-08-15T16:50:08.668497",
     "exception": false,
     "start_time": "2022-08-15T16:50:08.647654",
     "status": "completed"
    },
    "tags": []
   },
   "outputs": [
    {
     "data": {
      "application/javascript": [
       "parent.postMessage({\"jupyterEvent\": \"custom.exercise_interaction\", \"data\": {\"outcomeType\": 1, \"valueTowardsCompletion\": 0.3333333333333333, \"interactionType\": 1, \"questionType\": 4, \"questionId\": \"1_ExamineProvince\", \"learnToolsVersion\": \"0.3.4\", \"failureMessage\": \"\", \"exceptionClass\": \"\", \"trace\": \"\"}}, \"*\")"
      ],
      "text/plain": [
       "<IPython.core.display.Javascript object>"
      ]
     },
     "metadata": {},
     "output_type": "display_data"
    },
    {
     "data": {
      "text/markdown": [
       "<span style=\"color:#33cc33\">Correct:</span> \n",
       "\n",
       "There are inconsistencies that can be fixed by removing white spaces at the beginning and end of cells.  For instance, \"University of Central Florida\" and \" University of Central Florida\" both appear in the column."
      ],
      "text/plain": [
       "Correct: \n",
       "\n",
       "There are inconsistencies that can be fixed by removing white spaces at the beginning and end of cells.  For instance, \"University of Central Florida\" and \" University of Central Florida\" both appear in the column."
      ]
     },
     "metadata": {},
     "output_type": "display_data"
    }
   ],
   "source": [
    "# Check your answer (Run this code cell to receive credit!)\n",
    "q1.check()"
   ]
  },
  {
   "cell_type": "code",
   "execution_count": 6,
   "id": "506bac14",
   "metadata": {
    "execution": {
     "iopub.execute_input": "2022-08-15T16:50:08.681553Z",
     "iopub.status.busy": "2022-08-15T16:50:08.680946Z",
     "iopub.status.idle": "2022-08-15T16:50:08.685216Z",
     "shell.execute_reply": "2022-08-15T16:50:08.684423Z"
    },
    "papermill": {
     "duration": 0.013019,
     "end_time": "2022-08-15T16:50:08.687224",
     "exception": false,
     "start_time": "2022-08-15T16:50:08.674205",
     "status": "completed"
    },
    "tags": []
   },
   "outputs": [],
   "source": [
    "# Line below will give you a hint\n",
    "#q1.hint()"
   ]
  },
  {
   "cell_type": "markdown",
   "id": "bff2a37c",
   "metadata": {
    "papermill": {
     "duration": 0.005066,
     "end_time": "2022-08-15T16:50:08.697723",
     "exception": false,
     "start_time": "2022-08-15T16:50:08.692657",
     "status": "completed"
    },
    "tags": []
   },
   "source": [
    "# 2) Do some text pre-processing\n",
    "\n",
    "Convert every entry in the \"Graduated from\" column in the `professors` DataFrame to remove white spaces at the beginning and end of cells."
   ]
  },
  {
   "cell_type": "code",
   "execution_count": 7,
   "id": "ec1bb01c",
   "metadata": {
    "execution": {
     "iopub.execute_input": "2022-08-15T16:50:08.709990Z",
     "iopub.status.busy": "2022-08-15T16:50:08.709571Z",
     "iopub.status.idle": "2022-08-15T16:50:08.721818Z",
     "shell.execute_reply": "2022-08-15T16:50:08.720950Z"
    },
    "papermill": {
     "duration": 0.020946,
     "end_time": "2022-08-15T16:50:08.723871",
     "exception": false,
     "start_time": "2022-08-15T16:50:08.702925",
     "status": "completed"
    },
    "tags": []
   },
   "outputs": [
    {
     "data": {
      "application/javascript": [
       "parent.postMessage({\"jupyterEvent\": \"custom.exercise_interaction\", \"data\": {\"outcomeType\": 1, \"valueTowardsCompletion\": 0.3333333333333333, \"interactionType\": 1, \"questionType\": 1, \"questionId\": \"2_TextProcessing\", \"learnToolsVersion\": \"0.3.4\", \"failureMessage\": \"\", \"exceptionClass\": \"\", \"trace\": \"\"}}, \"*\")"
      ],
      "text/plain": [
       "<IPython.core.display.Javascript object>"
      ]
     },
     "metadata": {},
     "output_type": "display_data"
    },
    {
     "data": {
      "text/markdown": [
       "<span style=\"color:#33cc33\">Correct</span>"
      ],
      "text/plain": [
       "Correct"
      ]
     },
     "metadata": {},
     "output_type": "display_data"
    }
   ],
   "source": [
    "professors['Graduated from'] = professors['Graduated from'].str.strip()\n",
    "____\n",
    "\n",
    "# Check your answer\n",
    "q2.check()"
   ]
  },
  {
   "cell_type": "code",
   "execution_count": 8,
   "id": "c0fa8454",
   "metadata": {
    "execution": {
     "iopub.execute_input": "2022-08-15T16:50:08.736823Z",
     "iopub.status.busy": "2022-08-15T16:50:08.736184Z",
     "iopub.status.idle": "2022-08-15T16:50:08.740656Z",
     "shell.execute_reply": "2022-08-15T16:50:08.739467Z"
    },
    "papermill": {
     "duration": 0.01357,
     "end_time": "2022-08-15T16:50:08.742944",
     "exception": false,
     "start_time": "2022-08-15T16:50:08.729374",
     "status": "completed"
    },
    "tags": []
   },
   "outputs": [],
   "source": [
    "# Lines below will give you a hint or solution code\n",
    "#q2.hint()\n",
    "#q2.solution()"
   ]
  },
  {
   "cell_type": "markdown",
   "id": "84c107df",
   "metadata": {
    "papermill": {
     "duration": 0.005287,
     "end_time": "2022-08-15T16:50:08.753830",
     "exception": false,
     "start_time": "2022-08-15T16:50:08.748543",
     "status": "completed"
    },
    "tags": []
   },
   "source": [
    "# 3) Continue working with countries\n",
    "\n",
    "In the tutorial, we focused on cleaning up inconsistencies in the \"Country\" column.  Run the code cell below to view the list of unique values that we ended with."
   ]
  },
  {
   "cell_type": "code",
   "execution_count": 9,
   "id": "2cf515e4",
   "metadata": {
    "execution": {
     "iopub.execute_input": "2022-08-15T16:50:08.767679Z",
     "iopub.status.busy": "2022-08-15T16:50:08.766870Z",
     "iopub.status.idle": "2022-08-15T16:50:08.776023Z",
     "shell.execute_reply": "2022-08-15T16:50:08.774786Z"
    },
    "papermill": {
     "duration": 0.018589,
     "end_time": "2022-08-15T16:50:08.778741",
     "exception": false,
     "start_time": "2022-08-15T16:50:08.760152",
     "status": "completed"
    },
    "tags": []
   },
   "outputs": [
    {
     "data": {
      "text/plain": [
       "array(['australia', 'austria', 'canada', 'china', 'finland', 'france',\n",
       "       'germany', 'greece', 'hongkong', 'ireland', 'italy', 'japan',\n",
       "       'macau', 'malaysia', 'mauritius', 'netherland', 'new zealand',\n",
       "       'norway', 'pakistan', 'portugal', 'russian federation',\n",
       "       'saudi arabia', 'scotland', 'singapore', 'south korea', 'spain',\n",
       "       'sweden', 'thailand', 'turkey', 'uk', 'urbana', 'usa', 'usofa'],\n",
       "      dtype=object)"
      ]
     },
     "execution_count": 9,
     "metadata": {},
     "output_type": "execute_result"
    }
   ],
   "source": [
    "# get all the unique values in the 'City' column\n",
    "countries = professors['Country'].unique()\n",
    "\n",
    "# sort them alphabetically and then take a closer look\n",
    "countries.sort()\n",
    "countries"
   ]
  },
  {
   "cell_type": "markdown",
   "id": "897addff",
   "metadata": {
    "papermill": {
     "duration": 0.00586,
     "end_time": "2022-08-15T16:50:08.790890",
     "exception": false,
     "start_time": "2022-08-15T16:50:08.785030",
     "status": "completed"
    },
    "tags": []
   },
   "source": [
    "Take another look at the \"Country\" column and see if there's any more data cleaning we need to do.\n",
    "\n",
    "It looks like 'usa' and 'usofa' should be the same country.  Correct the \"Country\" column in the dataframe to replace 'usofa' with 'usa'.\n",
    "\n",
    "**Use the most recent version of the DataFrame (with the whitespaces at the beginning and end of cells removed) from question 2.**"
   ]
  },
  {
   "cell_type": "code",
   "execution_count": 10,
   "id": "5cc3987b",
   "metadata": {
    "execution": {
     "iopub.execute_input": "2022-08-15T16:50:08.806272Z",
     "iopub.status.busy": "2022-08-15T16:50:08.805458Z",
     "iopub.status.idle": "2022-08-15T16:50:08.821977Z",
     "shell.execute_reply": "2022-08-15T16:50:08.820849Z"
    },
    "papermill": {
     "duration": 0.026883,
     "end_time": "2022-08-15T16:50:08.824219",
     "exception": false,
     "start_time": "2022-08-15T16:50:08.797336",
     "status": "completed"
    },
    "tags": []
   },
   "outputs": [
    {
     "name": "stdout",
     "output_type": "stream",
     "text": [
      "All done!\n"
     ]
    },
    {
     "data": {
      "application/javascript": [
       "parent.postMessage({\"jupyterEvent\": \"custom.exercise_interaction\", \"data\": {\"outcomeType\": 1, \"valueTowardsCompletion\": 0.3333333333333333, \"interactionType\": 1, \"questionType\": 1, \"questionId\": \"3_WorkingWithCities\", \"learnToolsVersion\": \"0.3.4\", \"failureMessage\": \"\", \"exceptionClass\": \"\", \"trace\": \"\"}}, \"*\")"
      ],
      "text/plain": [
       "<IPython.core.display.Javascript object>"
      ]
     },
     "metadata": {},
     "output_type": "display_data"
    },
    {
     "data": {
      "text/markdown": [
       "<span style=\"color:#33cc33\">Correct</span>"
      ],
      "text/plain": [
       "Correct"
      ]
     },
     "metadata": {},
     "output_type": "display_data"
    }
   ],
   "source": [
    "\n",
    "#matches = fuzzywuzzy.process.extract(\"usa\", countries,  limit=10, scorer=fuzzywuzzy.fuzz.token_sort_ratio)\n",
    "#replace_matches_in_column(df=professors, column='Country', string_to_match= \"usa\" ,min_ratio=70)\n",
    "# get all the unique values in the 'Country' column\n",
    "\n",
    "# get all the unique values in the 'Country' column\n",
    "#countries = professors['Country'].unique()\n",
    "\n",
    "matches = fuzzywuzzy.process.extract(\"usa\", countries, limit=10, scorer=fuzzywuzzy.fuzz.token_sort_ratio)\n",
    "replace_matches_in_column(df=professors, column='Country', string_to_match=\"usa\", min_ratio=70)\n",
    "\n",
    "q3.check()"
   ]
  },
  {
   "cell_type": "code",
   "execution_count": 11,
   "id": "e2b53be0",
   "metadata": {
    "execution": {
     "iopub.execute_input": "2022-08-15T16:50:08.839418Z",
     "iopub.status.busy": "2022-08-15T16:50:08.838572Z",
     "iopub.status.idle": "2022-08-15T16:50:08.850196Z",
     "shell.execute_reply": "2022-08-15T16:50:08.849265Z"
    },
    "papermill": {
     "duration": 0.022179,
     "end_time": "2022-08-15T16:50:08.852520",
     "exception": false,
     "start_time": "2022-08-15T16:50:08.830341",
     "status": "completed"
    },
    "tags": []
   },
   "outputs": [
    {
     "data": {
      "application/javascript": [
       "parent.postMessage({\"jupyterEvent\": \"custom.exercise_interaction\", \"data\": {\"interactionType\": 2, \"questionType\": 1, \"questionId\": \"3_WorkingWithCities\", \"learnToolsVersion\": \"0.3.4\", \"valueTowardsCompletion\": 0.0, \"failureMessage\": \"\", \"exceptionClass\": \"\", \"trace\": \"\", \"outcomeType\": 4}}, \"*\")"
      ],
      "text/plain": [
       "<IPython.core.display.Javascript object>"
      ]
     },
     "metadata": {},
     "output_type": "display_data"
    },
    {
     "data": {
      "text/markdown": [
       "<span style=\"color:#3366cc\">Hint:</span> Use the `replace_matches_in_column()` function defined above."
      ],
      "text/plain": [
       "Hint: Use the `replace_matches_in_column()` function defined above."
      ]
     },
     "metadata": {},
     "output_type": "display_data"
    },
    {
     "data": {
      "application/javascript": [
       "parent.postMessage({\"jupyterEvent\": \"custom.exercise_interaction\", \"data\": {\"interactionType\": 3, \"questionType\": 1, \"questionId\": \"3_WorkingWithCities\", \"learnToolsVersion\": \"0.3.4\", \"valueTowardsCompletion\": 0.0, \"failureMessage\": \"\", \"exceptionClass\": \"\", \"trace\": \"\", \"outcomeType\": 4}}, \"*\")"
      ],
      "text/plain": [
       "<IPython.core.display.Javascript object>"
      ]
     },
     "metadata": {},
     "output_type": "display_data"
    },
    {
     "data": {
      "text/markdown": [
       "<span style=\"color:#33cc99\">Solution:</span> \n",
       "```python\n",
       "matches = fuzzywuzzy.process.extract(\"usa\", countries, limit=10, scorer=fuzzywuzzy.fuzz.token_sort_ratio)\n",
       "replace_matches_in_column(df=professors, column='Country', string_to_match=\"usa\", min_ratio=70)\n",
       "\n",
       "```"
      ],
      "text/plain": [
       "Solution: \n",
       "```python\n",
       "matches = fuzzywuzzy.process.extract(\"usa\", countries, limit=10, scorer=fuzzywuzzy.fuzz.token_sort_ratio)\n",
       "replace_matches_in_column(df=professors, column='Country', string_to_match=\"usa\", min_ratio=70)\n",
       "\n",
       "```"
      ]
     },
     "metadata": {},
     "output_type": "display_data"
    }
   ],
   "source": [
    "# Lines below will give you a hint or solution code\n",
    "q3.hint()\n",
    "q3.solution()"
   ]
  },
  {
   "cell_type": "markdown",
   "id": "5e339352",
   "metadata": {
    "papermill": {
     "duration": 0.006864,
     "end_time": "2022-08-15T16:50:08.866910",
     "exception": false,
     "start_time": "2022-08-15T16:50:08.860046",
     "status": "completed"
    },
    "tags": []
   },
   "source": [
    "# Congratulations!\n",
    "\n",
    "Congratulations for completing the **Data Cleaning** course on Kaggle Learn!\n",
    "\n",
    "To practice your new skills, you're encouraged to download and investigate some of [Kaggle's Datasets](https://www.kaggle.com/datasets)."
   ]
  },
  {
   "cell_type": "markdown",
   "id": "ac5da4a8",
   "metadata": {
    "papermill": {
     "duration": 0.00683,
     "end_time": "2022-08-15T16:50:08.880705",
     "exception": false,
     "start_time": "2022-08-15T16:50:08.873875",
     "status": "completed"
    },
    "tags": []
   },
   "source": [
    "---\n",
    "\n",
    "\n",
    "\n",
    "\n",
    "*Have questions or comments? Visit the [course discussion forum](https://www.kaggle.com/learn/data-cleaning/discussion) to chat with other learners.*"
   ]
  }
 ],
 "metadata": {
  "kernelspec": {
   "display_name": "Python 3",
   "language": "python",
   "name": "python3"
  },
  "language_info": {
   "codemirror_mode": {
    "name": "ipython",
    "version": 3
   },
   "file_extension": ".py",
   "mimetype": "text/x-python",
   "name": "python",
   "nbconvert_exporter": "python",
   "pygments_lexer": "ipython3",
   "version": "3.7.12"
  },
  "papermill": {
   "default_parameters": {},
   "duration": 10.017422,
   "end_time": "2022-08-15T16:50:09.511314",
   "environment_variables": {},
   "exception": null,
   "input_path": "__notebook__.ipynb",
   "output_path": "__notebook__.ipynb",
   "parameters": {},
   "start_time": "2022-08-15T16:49:59.493892",
   "version": "2.3.4"
  }
 },
 "nbformat": 4,
 "nbformat_minor": 5
}
