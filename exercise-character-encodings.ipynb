{
 "cells": [
  {
   "cell_type": "markdown",
   "id": "198f8e42",
   "metadata": {
    "papermill": {
     "duration": 0.005526,
     "end_time": "2022-08-15T16:49:51.793034",
     "exception": false,
     "start_time": "2022-08-15T16:49:51.787508",
     "status": "completed"
    },
    "tags": []
   },
   "source": [
    "**This notebook is an exercise in the [Data Cleaning](https://www.kaggle.com/learn/data-cleaning) course.  You can reference the tutorial at [this link](https://www.kaggle.com/alexisbcook/character-encodings).**\n",
    "\n",
    "---\n"
   ]
  },
  {
   "cell_type": "markdown",
   "id": "fa3ce928",
   "metadata": {
    "papermill": {
     "duration": 0.00405,
     "end_time": "2022-08-15T16:49:51.801810",
     "exception": false,
     "start_time": "2022-08-15T16:49:51.797760",
     "status": "completed"
    },
    "tags": []
   },
   "source": [
    "In this exercise, you'll apply what you learned in the **Character encodings** tutorial.\n",
    "\n",
    "# Setup\n",
    "\n",
    "The questions below will give you feedback on your work. Run the following cell to set up the feedback system."
   ]
  },
  {
   "cell_type": "code",
   "execution_count": 1,
   "id": "bbbc39b7",
   "metadata": {
    "execution": {
     "iopub.execute_input": "2022-08-15T16:49:51.812967Z",
     "iopub.status.busy": "2022-08-15T16:49:51.812348Z",
     "iopub.status.idle": "2022-08-15T16:49:51.903494Z",
     "shell.execute_reply": "2022-08-15T16:49:51.902568Z"
    },
    "papermill": {
     "duration": 0.100485,
     "end_time": "2022-08-15T16:49:51.906600",
     "exception": false,
     "start_time": "2022-08-15T16:49:51.806115",
     "status": "completed"
    },
    "tags": []
   },
   "outputs": [
    {
     "name": "stdout",
     "output_type": "stream",
     "text": [
      "Setup Complete\n"
     ]
    }
   ],
   "source": [
    "from learntools.core import binder\n",
    "binder.bind(globals())\n",
    "from learntools.data_cleaning.ex4 import *\n",
    "print(\"Setup Complete\")"
   ]
  },
  {
   "cell_type": "markdown",
   "id": "85cf8512",
   "metadata": {
    "papermill": {
     "duration": 0.004221,
     "end_time": "2022-08-15T16:49:51.915496",
     "exception": false,
     "start_time": "2022-08-15T16:49:51.911275",
     "status": "completed"
    },
    "tags": []
   },
   "source": [
    "# Get our environment set up\n",
    "\n",
    "The first thing we'll need to do is load in the libraries we'll be using."
   ]
  },
  {
   "cell_type": "code",
   "execution_count": 2,
   "id": "cd0fc11a",
   "metadata": {
    "execution": {
     "iopub.execute_input": "2022-08-15T16:49:51.926294Z",
     "iopub.status.busy": "2022-08-15T16:49:51.925597Z",
     "iopub.status.idle": "2022-08-15T16:49:51.930962Z",
     "shell.execute_reply": "2022-08-15T16:49:51.929828Z"
    },
    "papermill": {
     "duration": 0.013413,
     "end_time": "2022-08-15T16:49:51.933267",
     "exception": false,
     "start_time": "2022-08-15T16:49:51.919854",
     "status": "completed"
    },
    "tags": []
   },
   "outputs": [],
   "source": [
    "# modules we'll use\n",
    "import pandas as pd\n",
    "import numpy as np\n",
    "\n",
    "# helpful character encoding module\n",
    "import chardet\n",
    "\n",
    "# set seed for reproducibility\n",
    "np.random.seed(0)"
   ]
  },
  {
   "cell_type": "markdown",
   "id": "f10fb70d",
   "metadata": {
    "papermill": {
     "duration": 0.004301,
     "end_time": "2022-08-15T16:49:51.942161",
     "exception": false,
     "start_time": "2022-08-15T16:49:51.937860",
     "status": "completed"
    },
    "tags": []
   },
   "source": [
    "# 1) What are encodings?\n",
    "\n",
    "You're working with a dataset composed of bytes.  Run the code cell below to print a sample entry."
   ]
  },
  {
   "cell_type": "code",
   "execution_count": 3,
   "id": "bd95daaa",
   "metadata": {
    "execution": {
     "iopub.execute_input": "2022-08-15T16:49:51.952883Z",
     "iopub.status.busy": "2022-08-15T16:49:51.952516Z",
     "iopub.status.idle": "2022-08-15T16:49:51.957858Z",
     "shell.execute_reply": "2022-08-15T16:49:51.956804Z"
    },
    "papermill": {
     "duration": 0.014391,
     "end_time": "2022-08-15T16:49:51.961281",
     "exception": false,
     "start_time": "2022-08-15T16:49:51.946890",
     "status": "completed"
    },
    "tags": []
   },
   "outputs": [
    {
     "name": "stdout",
     "output_type": "stream",
     "text": [
      "b'\\xa7A\\xa6n'\n",
      "data type: <class 'bytes'>\n"
     ]
    }
   ],
   "source": [
    "sample_entry = b'\\xa7A\\xa6n'\n",
    "print(sample_entry)\n",
    "print('data type:', type(sample_entry))"
   ]
  },
  {
   "cell_type": "markdown",
   "id": "82167e49",
   "metadata": {
    "papermill": {
     "duration": 0.004525,
     "end_time": "2022-08-15T16:49:51.970404",
     "exception": false,
     "start_time": "2022-08-15T16:49:51.965879",
     "status": "completed"
    },
    "tags": []
   },
   "source": [
    "You notice that it doesn't use the standard UTF-8 encoding. \n",
    "\n",
    "Use the next code cell to create a variable `new_entry` that changes the encoding from `\"big5-tw\"` to `\"utf-8\"`.  `new_entry` should have the bytes datatype."
   ]
  },
  {
   "cell_type": "code",
   "execution_count": 4,
   "id": "b0808216",
   "metadata": {
    "execution": {
     "iopub.execute_input": "2022-08-15T16:49:51.981777Z",
     "iopub.status.busy": "2022-08-15T16:49:51.980995Z",
     "iopub.status.idle": "2022-08-15T16:49:51.992634Z",
     "shell.execute_reply": "2022-08-15T16:49:51.991436Z"
    },
    "papermill": {
     "duration": 0.019728,
     "end_time": "2022-08-15T16:49:51.994832",
     "exception": false,
     "start_time": "2022-08-15T16:49:51.975104",
     "status": "completed"
    },
    "tags": []
   },
   "outputs": [
    {
     "data": {
      "application/javascript": [
       "parent.postMessage({\"jupyterEvent\": \"custom.exercise_interaction\", \"data\": {\"outcomeType\": 1, \"valueTowardsCompletion\": 0.3333333333333333, \"interactionType\": 1, \"questionType\": 1, \"questionId\": \"1_EncodingsIntro\", \"learnToolsVersion\": \"0.3.4\", \"failureMessage\": \"\", \"exceptionClass\": \"\", \"trace\": \"\"}}, \"*\")"
      ],
      "text/plain": [
       "<IPython.core.display.Javascript object>"
      ]
     },
     "metadata": {},
     "output_type": "display_data"
    },
    {
     "data": {
      "text/markdown": [
       "<span style=\"color:#33cc33\">Correct</span>"
      ],
      "text/plain": [
       "Correct"
      ]
     },
     "metadata": {},
     "output_type": "display_data"
    }
   ],
   "source": [
    "x= sample_entry.decode(\"big5-tw\", errors=\"replace\")\n",
    "new_entry  = x.encode(\"utf-8\", errors=\"replace\")\n",
    "# Check your answer\n",
    "q1.check()"
   ]
  },
  {
   "cell_type": "code",
   "execution_count": 5,
   "id": "2ab7b930",
   "metadata": {
    "execution": {
     "iopub.execute_input": "2022-08-15T16:49:52.006476Z",
     "iopub.status.busy": "2022-08-15T16:49:52.005831Z",
     "iopub.status.idle": "2022-08-15T16:49:52.009776Z",
     "shell.execute_reply": "2022-08-15T16:49:52.008987Z"
    },
    "papermill": {
     "duration": 0.011918,
     "end_time": "2022-08-15T16:49:52.011672",
     "exception": false,
     "start_time": "2022-08-15T16:49:51.999754",
     "status": "completed"
    },
    "tags": []
   },
   "outputs": [],
   "source": [
    "# Lines below will give you a hint or solution code\n",
    "#q1.hint()\n",
    "#q1.solution()"
   ]
  },
  {
   "cell_type": "markdown",
   "id": "31c6aa50",
   "metadata": {
    "papermill": {
     "duration": 0.004597,
     "end_time": "2022-08-15T16:49:52.021306",
     "exception": false,
     "start_time": "2022-08-15T16:49:52.016709",
     "status": "completed"
    },
    "tags": []
   },
   "source": [
    "# 2) Reading in files with encoding problems\n",
    "\n",
    "Use the code cell below to read in this file at path `\"../input/fatal-police-shootings-in-the-us/PoliceKillingsUS.csv\"`.  \n",
    "\n",
    "Figure out what the correct encoding should be and read in the file to a DataFrame `police_killings`."
   ]
  },
  {
   "cell_type": "code",
   "execution_count": 6,
   "id": "aaafebba",
   "metadata": {
    "execution": {
     "iopub.execute_input": "2022-08-15T16:49:52.032569Z",
     "iopub.status.busy": "2022-08-15T16:49:52.032192Z",
     "iopub.status.idle": "2022-08-15T16:49:55.214995Z",
     "shell.execute_reply": "2022-08-15T16:49:55.213648Z"
    },
    "papermill": {
     "duration": 3.191635,
     "end_time": "2022-08-15T16:49:55.217675",
     "exception": false,
     "start_time": "2022-08-15T16:49:52.026040",
     "status": "completed"
    },
    "tags": []
   },
   "outputs": [
    {
     "data": {
      "application/javascript": [
       "parent.postMessage({\"jupyterEvent\": \"custom.exercise_interaction\", \"data\": {\"outcomeType\": 1, \"valueTowardsCompletion\": 0.3333333333333333, \"interactionType\": 1, \"questionType\": 1, \"questionId\": \"2_ReadIn\", \"learnToolsVersion\": \"0.3.4\", \"failureMessage\": \"\", \"exceptionClass\": \"\", \"trace\": \"\"}}, \"*\")"
      ],
      "text/plain": [
       "<IPython.core.display.Javascript object>"
      ]
     },
     "metadata": {},
     "output_type": "display_data"
    },
    {
     "data": {
      "text/markdown": [
       "<span style=\"color:#33cc33\">Correct</span>"
      ],
      "text/plain": [
       "Correct"
      ]
     },
     "metadata": {},
     "output_type": "display_data"
    }
   ],
   "source": [
    "with open(\"../input/fatal-police-shootings-in-the-us/PoliceKillingsUS.csv\", 'rb') as rawdata:\n",
    "    result = chardet.detect(rawdata.read(1000000))\n",
    "    \n",
    "police_killings = pd.read_csv(\"../input/fatal-police-shootings-in-the-us/PoliceKillingsUS.csv\", encoding='Windows-1252')\n",
    "# Check your answer\n",
    "q2.check()"
   ]
  },
  {
   "cell_type": "markdown",
   "id": "b63a5ce9",
   "metadata": {
    "papermill": {
     "duration": 0.004887,
     "end_time": "2022-08-15T16:49:55.228100",
     "exception": false,
     "start_time": "2022-08-15T16:49:55.223213",
     "status": "completed"
    },
    "tags": []
   },
   "source": [
    "Feel free to use any additional code cells for supplemental work.  To get credit for finishing this question, you'll need to run `q2.check()` and get a result of **Correct**."
   ]
  },
  {
   "cell_type": "code",
   "execution_count": 7,
   "id": "e97f2f53",
   "metadata": {
    "execution": {
     "iopub.execute_input": "2022-08-15T16:49:55.240417Z",
     "iopub.status.busy": "2022-08-15T16:49:55.239505Z",
     "iopub.status.idle": "2022-08-15T16:49:55.244827Z",
     "shell.execute_reply": "2022-08-15T16:49:55.243713Z"
    },
    "papermill": {
     "duration": 0.014244,
     "end_time": "2022-08-15T16:49:55.247332",
     "exception": false,
     "start_time": "2022-08-15T16:49:55.233088",
     "status": "completed"
    },
    "tags": []
   },
   "outputs": [],
   "source": [
    "# (Optional) Use this code cell for any additional work."
   ]
  },
  {
   "cell_type": "code",
   "execution_count": 8,
   "id": "9cebbeb8",
   "metadata": {
    "execution": {
     "iopub.execute_input": "2022-08-15T16:49:55.259994Z",
     "iopub.status.busy": "2022-08-15T16:49:55.259183Z",
     "iopub.status.idle": "2022-08-15T16:49:55.266799Z",
     "shell.execute_reply": "2022-08-15T16:49:55.265954Z"
    },
    "papermill": {
     "duration": 0.016114,
     "end_time": "2022-08-15T16:49:55.268743",
     "exception": false,
     "start_time": "2022-08-15T16:49:55.252629",
     "status": "completed"
    },
    "tags": []
   },
   "outputs": [
    {
     "data": {
      "application/javascript": [
       "parent.postMessage({\"jupyterEvent\": \"custom.exercise_interaction\", \"data\": {\"interactionType\": 2, \"questionType\": 1, \"questionId\": \"2_ReadIn\", \"learnToolsVersion\": \"0.3.4\", \"valueTowardsCompletion\": 0.0, \"failureMessage\": \"\", \"exceptionClass\": \"\", \"trace\": \"\", \"outcomeType\": 4}}, \"*\")"
      ],
      "text/plain": [
       "<IPython.core.display.Javascript object>"
      ]
     },
     "metadata": {},
     "output_type": "display_data"
    },
    {
     "data": {
      "text/markdown": [
       "<span style=\"color:#3366cc\">Hint:</span> If you try to guess the encoding with the first 10,000 bytes of the file, it might give you the wrong answer.  Try using 100,000 or more lines of the file."
      ],
      "text/plain": [
       "Hint: If you try to guess the encoding with the first 10,000 bytes of the file, it might give you the wrong answer.  Try using 100,000 or more lines of the file."
      ]
     },
     "metadata": {},
     "output_type": "display_data"
    }
   ],
   "source": [
    "# Lines below will give you a hint or solution code\n",
    "q2.hint()\n",
    "#q2.solution()"
   ]
  },
  {
   "cell_type": "markdown",
   "id": "99cf560b",
   "metadata": {
    "papermill": {
     "duration": 0.005034,
     "end_time": "2022-08-15T16:49:55.279084",
     "exception": false,
     "start_time": "2022-08-15T16:49:55.274050",
     "status": "completed"
    },
    "tags": []
   },
   "source": [
    "# 3) Saving your files with UTF-8 encoding\n",
    "\n",
    "Save a version of the police killings dataset to CSV with UTF-8 encoding.  Your answer will be marked correct after saving this file.  \n",
    "\n",
    "Note: When using the `to_csv()` method, supply only the name of the file (e.g., `\"my_file.csv\"`).  This saves the file at the filepath `\"/kaggle/working/my_file.csv\"`."
   ]
  },
  {
   "cell_type": "code",
   "execution_count": 9,
   "id": "1eeb4171",
   "metadata": {
    "execution": {
     "iopub.execute_input": "2022-08-15T16:49:55.291384Z",
     "iopub.status.busy": "2022-08-15T16:49:55.290921Z",
     "iopub.status.idle": "2022-08-15T16:49:55.323534Z",
     "shell.execute_reply": "2022-08-15T16:49:55.322095Z"
    },
    "papermill": {
     "duration": 0.041758,
     "end_time": "2022-08-15T16:49:55.326151",
     "exception": false,
     "start_time": "2022-08-15T16:49:55.284393",
     "status": "completed"
    },
    "tags": []
   },
   "outputs": [
    {
     "data": {
      "application/javascript": [
       "parent.postMessage({\"jupyterEvent\": \"custom.exercise_interaction\", \"data\": {\"outcomeType\": 1, \"valueTowardsCompletion\": 0.3333333333333333, \"interactionType\": 1, \"questionType\": 2, \"questionId\": \"3_SaveCSV\", \"learnToolsVersion\": \"0.3.4\", \"failureMessage\": \"\", \"exceptionClass\": \"\", \"trace\": \"\"}}, \"*\")"
      ],
      "text/plain": [
       "<IPython.core.display.Javascript object>"
      ]
     },
     "metadata": {},
     "output_type": "display_data"
    },
    {
     "data": {
      "text/markdown": [
       "<span style=\"color:#33cc33\">Correct</span>"
      ],
      "text/plain": [
       "Correct"
      ]
     },
     "metadata": {},
     "output_type": "display_data"
    }
   ],
   "source": [
    "# TODO: Save the police killings dataset to CSV\n",
    "police_killings.to_csv(\"PoliceKillingsUS-utf8.csv\")\n",
    "\n",
    "# Check your answer\n",
    "q3.check()"
   ]
  },
  {
   "cell_type": "code",
   "execution_count": 10,
   "id": "447f7f53",
   "metadata": {
    "execution": {
     "iopub.execute_input": "2022-08-15T16:49:55.340329Z",
     "iopub.status.busy": "2022-08-15T16:49:55.339905Z",
     "iopub.status.idle": "2022-08-15T16:49:55.344026Z",
     "shell.execute_reply": "2022-08-15T16:49:55.343134Z"
    },
    "papermill": {
     "duration": 0.013213,
     "end_time": "2022-08-15T16:49:55.346048",
     "exception": false,
     "start_time": "2022-08-15T16:49:55.332835",
     "status": "completed"
    },
    "tags": []
   },
   "outputs": [],
   "source": [
    "# Lines below will give you a hint or solution code\n",
    "#q3.hint()\n",
    "#q3.solution()"
   ]
  },
  {
   "cell_type": "markdown",
   "id": "0632fe39",
   "metadata": {
    "papermill": {
     "duration": 0.005796,
     "end_time": "2022-08-15T16:49:55.357668",
     "exception": false,
     "start_time": "2022-08-15T16:49:55.351872",
     "status": "completed"
    },
    "tags": []
   },
   "source": [
    "# (Optional) More practice\n",
    "\n",
    "Check out [this dataset of files in different character encodings](https://www.kaggle.com/rtatman/character-encoding-examples). Can you read in all the files with their original encodings and them save them out as UTF-8 files?\n",
    "\n",
    "If you have a file that's in UTF-8 but has just a couple of weird-looking characters in it, you can try out the [ftfy module](https://ftfy.readthedocs.io/en/latest/#) and see if it helps. \n",
    "\n",
    "# Keep going\n",
    "\n",
    "In the final lesson, learn how to [**clean up inconsistent text entries**](https://www.kaggle.com/alexisbcook/inconsistent-data-entry) in your dataset."
   ]
  },
  {
   "cell_type": "markdown",
   "id": "94dd2b29",
   "metadata": {
    "papermill": {
     "duration": 0.005292,
     "end_time": "2022-08-15T16:49:55.368740",
     "exception": false,
     "start_time": "2022-08-15T16:49:55.363448",
     "status": "completed"
    },
    "tags": []
   },
   "source": [
    "---\n",
    "\n",
    "\n",
    "\n",
    "\n",
    "*Have questions or comments? Visit the [course discussion forum](https://www.kaggle.com/learn/data-cleaning/discussion) to chat with other learners.*"
   ]
  }
 ],
 "metadata": {
  "kernelspec": {
   "display_name": "Python 3",
   "language": "python",
   "name": "python3"
  },
  "language_info": {
   "codemirror_mode": {
    "name": "ipython",
    "version": 3
   },
   "file_extension": ".py",
   "mimetype": "text/x-python",
   "name": "python",
   "nbconvert_exporter": "python",
   "pygments_lexer": "ipython3",
   "version": "3.7.12"
  },
  "papermill": {
   "default_parameters": {},
   "duration": 13.361365,
   "end_time": "2022-08-15T16:49:55.995508",
   "environment_variables": {},
   "exception": null,
   "input_path": "__notebook__.ipynb",
   "output_path": "__notebook__.ipynb",
   "parameters": {},
   "start_time": "2022-08-15T16:49:42.634143",
   "version": "2.3.4"
  }
 },
 "nbformat": 4,
 "nbformat_minor": 5
}
