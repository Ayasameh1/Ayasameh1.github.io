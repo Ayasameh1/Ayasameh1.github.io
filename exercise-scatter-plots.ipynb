{
 "cells": [
  {
   "cell_type": "markdown",
   "id": "1882a153",
   "metadata": {
    "papermill": {
     "duration": 0.009863,
     "end_time": "2022-08-15T16:52:46.274205",
     "exception": false,
     "start_time": "2022-08-15T16:52:46.264342",
     "status": "completed"
    },
    "tags": []
   },
   "source": [
    "**This notebook is an exercise in the [Data Visualization](https://www.kaggle.com/learn/data-visualization) course.  You can reference the tutorial at [this link](https://www.kaggle.com/alexisbcook/scatter-plots).**\n",
    "\n",
    "---\n"
   ]
  },
  {
   "cell_type": "markdown",
   "id": "e30c5042",
   "metadata": {
    "papermill": {
     "duration": 0.007804,
     "end_time": "2022-08-15T16:52:46.290398",
     "exception": false,
     "start_time": "2022-08-15T16:52:46.282594",
     "status": "completed"
    },
    "tags": []
   },
   "source": [
    "In this exercise, you will use your new knowledge to propose a solution to a real-world scenario.  To succeed, you will need to import data into Python, answer questions using the data, and generate **scatter plots** to understand patterns in the data.\n",
    "\n",
    "## Scenario\n",
    "\n",
    "You work for a major candy producer, and your goal is to write a report that your company can use to guide the design of its next product.  Soon after starting your research, you stumble across this [very interesting dataset](https://fivethirtyeight.com/features/the-ultimate-halloween-candy-power-ranking/) containing results from a fun survey to crowdsource favorite candies.\n",
    "\n",
    "## Setup\n",
    "\n",
    "Run the next cell to import and configure the Python libraries that you need to complete the exercise."
   ]
  },
  {
   "cell_type": "code",
   "execution_count": 1,
   "id": "69cfe7f7",
   "metadata": {
    "execution": {
     "iopub.execute_input": "2022-08-15T16:52:46.309627Z",
     "iopub.status.busy": "2022-08-15T16:52:46.308560Z",
     "iopub.status.idle": "2022-08-15T16:52:47.402884Z",
     "shell.execute_reply": "2022-08-15T16:52:47.400808Z"
    },
    "papermill": {
     "duration": 1.107642,
     "end_time": "2022-08-15T16:52:47.406072",
     "exception": false,
     "start_time": "2022-08-15T16:52:46.298430",
     "status": "completed"
    },
    "tags": []
   },
   "outputs": [
    {
     "name": "stdout",
     "output_type": "stream",
     "text": [
      "Setup Complete\n"
     ]
    }
   ],
   "source": [
    "import pandas as pd\n",
    "pd.plotting.register_matplotlib_converters()\n",
    "import matplotlib.pyplot as plt\n",
    "%matplotlib inline\n",
    "import seaborn as sns\n",
    "print(\"Setup Complete\")"
   ]
  },
  {
   "cell_type": "markdown",
   "id": "1196d7ec",
   "metadata": {
    "papermill": {
     "duration": 0.00929,
     "end_time": "2022-08-15T16:52:47.424433",
     "exception": false,
     "start_time": "2022-08-15T16:52:47.415143",
     "status": "completed"
    },
    "tags": []
   },
   "source": [
    "The questions below will give you feedback on your work. Run the following cell to set up our feedback system."
   ]
  },
  {
   "cell_type": "code",
   "execution_count": 2,
   "id": "8a13c110",
   "metadata": {
    "execution": {
     "iopub.execute_input": "2022-08-15T16:52:47.447922Z",
     "iopub.status.busy": "2022-08-15T16:52:47.446965Z",
     "iopub.status.idle": "2022-08-15T16:52:47.519495Z",
     "shell.execute_reply": "2022-08-15T16:52:47.517765Z"
    },
    "papermill": {
     "duration": 0.087835,
     "end_time": "2022-08-15T16:52:47.523081",
     "exception": false,
     "start_time": "2022-08-15T16:52:47.435246",
     "status": "completed"
    },
    "tags": []
   },
   "outputs": [
    {
     "name": "stdout",
     "output_type": "stream",
     "text": [
      "Setup Complete\n"
     ]
    }
   ],
   "source": [
    "# Set up code checking\n",
    "import os\n",
    "if not os.path.exists(\"../input/candy.csv\"):\n",
    "    os.symlink(\"../input/data-for-datavis/candy.csv\", \"../input/candy.csv\") \n",
    "from learntools.core import binder\n",
    "binder.bind(globals())\n",
    "from learntools.data_viz_to_coder.ex4 import *\n",
    "print(\"Setup Complete\")"
   ]
  },
  {
   "cell_type": "markdown",
   "id": "884cc4e1",
   "metadata": {
    "papermill": {
     "duration": 0.008515,
     "end_time": "2022-08-15T16:52:47.540893",
     "exception": false,
     "start_time": "2022-08-15T16:52:47.532378",
     "status": "completed"
    },
    "tags": []
   },
   "source": [
    "## Step 1: Load the Data\n",
    "\n",
    "Read the candy data file into `candy_data`.  Use the `\"id\"` column to label the rows."
   ]
  },
  {
   "cell_type": "code",
   "execution_count": 3,
   "id": "6bce9a19",
   "metadata": {
    "execution": {
     "iopub.execute_input": "2022-08-15T16:52:47.560095Z",
     "iopub.status.busy": "2022-08-15T16:52:47.559322Z",
     "iopub.status.idle": "2022-08-15T16:52:47.576132Z",
     "shell.execute_reply": "2022-08-15T16:52:47.574990Z"
    },
    "papermill": {
     "duration": 0.028954,
     "end_time": "2022-08-15T16:52:47.578333",
     "exception": false,
     "start_time": "2022-08-15T16:52:47.549379",
     "status": "completed"
    },
    "tags": []
   },
   "outputs": [
    {
     "data": {
      "application/javascript": [
       "parent.postMessage({\"jupyterEvent\": \"custom.exercise_interaction\", \"data\": {\"outcomeType\": 1, \"valueTowardsCompletion\": 0.3333333333333333, \"interactionType\": 1, \"questionType\": 1, \"questionId\": \"1_LoadData\", \"learnToolsVersion\": \"0.3.4\", \"failureMessage\": \"\", \"exceptionClass\": \"\", \"trace\": \"\"}}, \"*\")"
      ],
      "text/plain": [
       "<IPython.core.display.Javascript object>"
      ]
     },
     "metadata": {},
     "output_type": "display_data"
    },
    {
     "data": {
      "text/markdown": [
       "<span style=\"color:#33cc33\">Correct</span>"
      ],
      "text/plain": [
       "Correct"
      ]
     },
     "metadata": {},
     "output_type": "display_data"
    }
   ],
   "source": [
    "# Path of the file to read\n",
    "candy_filepath = \"../input/candy.csv\"\n",
    "\n",
    "# Fill in the line below to read the file into a variable candy_data\n",
    "candy_data = pd.read_csv(candy_filepath , index_col =\"id\")\n",
    "\n",
    "# Run the line below with no changes to check that you've loaded the data correctly\n",
    "step_1.check()"
   ]
  },
  {
   "cell_type": "code",
   "execution_count": 4,
   "id": "6b4fab7f",
   "metadata": {
    "execution": {
     "iopub.execute_input": "2022-08-15T16:52:47.597535Z",
     "iopub.status.busy": "2022-08-15T16:52:47.597112Z",
     "iopub.status.idle": "2022-08-15T16:52:47.601500Z",
     "shell.execute_reply": "2022-08-15T16:52:47.600239Z"
    },
    "papermill": {
     "duration": 0.017027,
     "end_time": "2022-08-15T16:52:47.603886",
     "exception": false,
     "start_time": "2022-08-15T16:52:47.586859",
     "status": "completed"
    },
    "tags": []
   },
   "outputs": [],
   "source": [
    "# Lines below will give you a hint or solution code\n",
    "#step_1.hint()\n",
    "#step_1.solution()"
   ]
  },
  {
   "cell_type": "markdown",
   "id": "50309961",
   "metadata": {
    "papermill": {
     "duration": 0.008279,
     "end_time": "2022-08-15T16:52:47.620881",
     "exception": false,
     "start_time": "2022-08-15T16:52:47.612602",
     "status": "completed"
    },
    "tags": []
   },
   "source": [
    "## Step 2: Review the data\n",
    "\n",
    "Use a Python command to print the first five rows of the data."
   ]
  },
  {
   "cell_type": "code",
   "execution_count": 5,
   "id": "5710d4f7",
   "metadata": {
    "execution": {
     "iopub.execute_input": "2022-08-15T16:52:47.640866Z",
     "iopub.status.busy": "2022-08-15T16:52:47.640095Z",
     "iopub.status.idle": "2022-08-15T16:52:47.663342Z",
     "shell.execute_reply": "2022-08-15T16:52:47.662080Z"
    },
    "papermill": {
     "duration": 0.035738,
     "end_time": "2022-08-15T16:52:47.665754",
     "exception": false,
     "start_time": "2022-08-15T16:52:47.630016",
     "status": "completed"
    },
    "tags": []
   },
   "outputs": [
    {
     "data": {
      "text/html": [
       "<div>\n",
       "<style scoped>\n",
       "    .dataframe tbody tr th:only-of-type {\n",
       "        vertical-align: middle;\n",
       "    }\n",
       "\n",
       "    .dataframe tbody tr th {\n",
       "        vertical-align: top;\n",
       "    }\n",
       "\n",
       "    .dataframe thead th {\n",
       "        text-align: right;\n",
       "    }\n",
       "</style>\n",
       "<table border=\"1\" class=\"dataframe\">\n",
       "  <thead>\n",
       "    <tr style=\"text-align: right;\">\n",
       "      <th></th>\n",
       "      <th>competitorname</th>\n",
       "      <th>chocolate</th>\n",
       "      <th>fruity</th>\n",
       "      <th>caramel</th>\n",
       "      <th>peanutyalmondy</th>\n",
       "      <th>nougat</th>\n",
       "      <th>crispedricewafer</th>\n",
       "      <th>hard</th>\n",
       "      <th>bar</th>\n",
       "      <th>pluribus</th>\n",
       "      <th>sugarpercent</th>\n",
       "      <th>pricepercent</th>\n",
       "      <th>winpercent</th>\n",
       "    </tr>\n",
       "    <tr>\n",
       "      <th>id</th>\n",
       "      <th></th>\n",
       "      <th></th>\n",
       "      <th></th>\n",
       "      <th></th>\n",
       "      <th></th>\n",
       "      <th></th>\n",
       "      <th></th>\n",
       "      <th></th>\n",
       "      <th></th>\n",
       "      <th></th>\n",
       "      <th></th>\n",
       "      <th></th>\n",
       "      <th></th>\n",
       "    </tr>\n",
       "  </thead>\n",
       "  <tbody>\n",
       "    <tr>\n",
       "      <th>0</th>\n",
       "      <td>100 Grand</td>\n",
       "      <td>Yes</td>\n",
       "      <td>No</td>\n",
       "      <td>Yes</td>\n",
       "      <td>No</td>\n",
       "      <td>No</td>\n",
       "      <td>Yes</td>\n",
       "      <td>No</td>\n",
       "      <td>Yes</td>\n",
       "      <td>No</td>\n",
       "      <td>0.732</td>\n",
       "      <td>0.860</td>\n",
       "      <td>66.971725</td>\n",
       "    </tr>\n",
       "    <tr>\n",
       "      <th>1</th>\n",
       "      <td>3 Musketeers</td>\n",
       "      <td>Yes</td>\n",
       "      <td>No</td>\n",
       "      <td>No</td>\n",
       "      <td>No</td>\n",
       "      <td>Yes</td>\n",
       "      <td>No</td>\n",
       "      <td>No</td>\n",
       "      <td>Yes</td>\n",
       "      <td>No</td>\n",
       "      <td>0.604</td>\n",
       "      <td>0.511</td>\n",
       "      <td>67.602936</td>\n",
       "    </tr>\n",
       "    <tr>\n",
       "      <th>2</th>\n",
       "      <td>Air Heads</td>\n",
       "      <td>No</td>\n",
       "      <td>Yes</td>\n",
       "      <td>No</td>\n",
       "      <td>No</td>\n",
       "      <td>No</td>\n",
       "      <td>No</td>\n",
       "      <td>No</td>\n",
       "      <td>No</td>\n",
       "      <td>No</td>\n",
       "      <td>0.906</td>\n",
       "      <td>0.511</td>\n",
       "      <td>52.341465</td>\n",
       "    </tr>\n",
       "    <tr>\n",
       "      <th>3</th>\n",
       "      <td>Almond Joy</td>\n",
       "      <td>Yes</td>\n",
       "      <td>No</td>\n",
       "      <td>No</td>\n",
       "      <td>Yes</td>\n",
       "      <td>No</td>\n",
       "      <td>No</td>\n",
       "      <td>No</td>\n",
       "      <td>Yes</td>\n",
       "      <td>No</td>\n",
       "      <td>0.465</td>\n",
       "      <td>0.767</td>\n",
       "      <td>50.347546</td>\n",
       "    </tr>\n",
       "    <tr>\n",
       "      <th>4</th>\n",
       "      <td>Baby Ruth</td>\n",
       "      <td>Yes</td>\n",
       "      <td>No</td>\n",
       "      <td>Yes</td>\n",
       "      <td>Yes</td>\n",
       "      <td>Yes</td>\n",
       "      <td>No</td>\n",
       "      <td>No</td>\n",
       "      <td>Yes</td>\n",
       "      <td>No</td>\n",
       "      <td>0.604</td>\n",
       "      <td>0.767</td>\n",
       "      <td>56.914547</td>\n",
       "    </tr>\n",
       "  </tbody>\n",
       "</table>\n",
       "</div>"
      ],
      "text/plain": [
       "   competitorname chocolate fruity caramel peanutyalmondy nougat  \\\n",
       "id                                                                 \n",
       "0       100 Grand       Yes     No     Yes             No     No   \n",
       "1    3 Musketeers       Yes     No      No             No    Yes   \n",
       "2       Air Heads        No    Yes      No             No     No   \n",
       "3      Almond Joy       Yes     No      No            Yes     No   \n",
       "4       Baby Ruth       Yes     No     Yes            Yes    Yes   \n",
       "\n",
       "   crispedricewafer hard  bar pluribus  sugarpercent  pricepercent  winpercent  \n",
       "id                                                                              \n",
       "0               Yes   No  Yes       No         0.732         0.860   66.971725  \n",
       "1                No   No  Yes       No         0.604         0.511   67.602936  \n",
       "2                No   No   No       No         0.906         0.511   52.341465  \n",
       "3                No   No  Yes       No         0.465         0.767   50.347546  \n",
       "4                No   No  Yes       No         0.604         0.767   56.914547  "
      ]
     },
     "execution_count": 5,
     "metadata": {},
     "output_type": "execute_result"
    }
   ],
   "source": [
    "# Print the first five rows of the data\n",
    "candy_data.head() # Your code here"
   ]
  },
  {
   "cell_type": "markdown",
   "id": "d76d2b9e",
   "metadata": {
    "papermill": {
     "duration": 0.008842,
     "end_time": "2022-08-15T16:52:47.683786",
     "exception": false,
     "start_time": "2022-08-15T16:52:47.674944",
     "status": "completed"
    },
    "tags": []
   },
   "source": [
    "The dataset contains 83 rows, where each corresponds to a different candy bar.  There are 13 columns:\n",
    "- `'competitorname'` contains the name of the candy bar. \n",
    "- the next **9** columns (from `'chocolate'` to `'pluribus'`) describe the candy.  For instance, rows with chocolate candies have `\"Yes\"` in the `'chocolate'` column (and candies without chocolate have `\"No\"` in the same column).\n",
    "- `'sugarpercent'` provides some indication of the amount of sugar, where higher values signify higher sugar content.\n",
    "- `'pricepercent'` shows the price per unit, relative to the other candies in the dataset.\n",
    "- `'winpercent'` is calculated from the survey results; higher values indicate that the candy was more popular with survey respondents.\n",
    "\n",
    "Use the first five rows of the data to answer the questions below."
   ]
  },
  {
   "cell_type": "code",
   "execution_count": 6,
   "id": "1eedda7d",
   "metadata": {
    "execution": {
     "iopub.execute_input": "2022-08-15T16:52:47.704109Z",
     "iopub.status.busy": "2022-08-15T16:52:47.703325Z",
     "iopub.status.idle": "2022-08-15T16:52:47.712942Z",
     "shell.execute_reply": "2022-08-15T16:52:47.711942Z"
    },
    "papermill": {
     "duration": 0.022203,
     "end_time": "2022-08-15T16:52:47.715134",
     "exception": false,
     "start_time": "2022-08-15T16:52:47.692931",
     "status": "completed"
    },
    "tags": []
   },
   "outputs": [
    {
     "data": {
      "application/javascript": [
       "parent.postMessage({\"jupyterEvent\": \"custom.exercise_interaction\", \"data\": {\"outcomeType\": 1, \"valueTowardsCompletion\": 0.3333333333333333, \"interactionType\": 1, \"questionType\": 1, \"questionId\": \"2_ReviewData\", \"learnToolsVersion\": \"0.3.4\", \"failureMessage\": \"\", \"exceptionClass\": \"\", \"trace\": \"\"}}, \"*\")"
      ],
      "text/plain": [
       "<IPython.core.display.Javascript object>"
      ]
     },
     "metadata": {},
     "output_type": "display_data"
    },
    {
     "data": {
      "text/markdown": [
       "<span style=\"color:#33cc33\">Correct</span>"
      ],
      "text/plain": [
       "Correct"
      ]
     },
     "metadata": {},
     "output_type": "display_data"
    }
   ],
   "source": [
    "# Fill in the line below: Which candy was more popular with survey respondents:\n",
    "# '3 Musketeers' or 'Almond Joy'?  (Please enclose your answer in single quotes.)\n",
    "more_popular = '3 Musketeers'\n",
    "\n",
    "# Fill in the line below: Which candy has higher sugar content: 'Air Heads'\n",
    "# or 'Baby Ruth'? (Please enclose your answer in single quotes.)\n",
    "more_sugar = 'Air Heads'\n",
    "\n",
    "# Check your answers\n",
    "step_2.check()"
   ]
  },
  {
   "cell_type": "code",
   "execution_count": 7,
   "id": "f42b6dfd",
   "metadata": {
    "execution": {
     "iopub.execute_input": "2022-08-15T16:52:47.735843Z",
     "iopub.status.busy": "2022-08-15T16:52:47.735041Z",
     "iopub.status.idle": "2022-08-15T16:52:47.740131Z",
     "shell.execute_reply": "2022-08-15T16:52:47.738936Z"
    },
    "papermill": {
     "duration": 0.018277,
     "end_time": "2022-08-15T16:52:47.742626",
     "exception": false,
     "start_time": "2022-08-15T16:52:47.724349",
     "status": "completed"
    },
    "tags": []
   },
   "outputs": [],
   "source": [
    "# Lines below will give you a hint or solution code\n",
    "#step_2.hint()\n",
    "#step_2.solution()"
   ]
  },
  {
   "cell_type": "markdown",
   "id": "73290ce1",
   "metadata": {
    "papermill": {
     "duration": 0.008918,
     "end_time": "2022-08-15T16:52:47.760958",
     "exception": false,
     "start_time": "2022-08-15T16:52:47.752040",
     "status": "completed"
    },
    "tags": []
   },
   "source": [
    "## Step 3: The role of sugar\n",
    "\n",
    "Do people tend to prefer candies with higher sugar content?  \n",
    "\n",
    "#### Part A\n",
    "\n",
    "Create a scatter plot that shows the relationship between `'sugarpercent'` (on the horizontal x-axis) and `'winpercent'` (on the vertical y-axis).  _Don't add a regression line just yet -- you'll do that in the next step!_"
   ]
  },
  {
   "cell_type": "code",
   "execution_count": 8,
   "id": "4f796cc4",
   "metadata": {
    "execution": {
     "iopub.execute_input": "2022-08-15T16:52:47.781648Z",
     "iopub.status.busy": "2022-08-15T16:52:47.780864Z",
     "iopub.status.idle": "2022-08-15T16:52:48.052215Z",
     "shell.execute_reply": "2022-08-15T16:52:48.050858Z"
    },
    "papermill": {
     "duration": 0.284383,
     "end_time": "2022-08-15T16:52:48.054629",
     "exception": false,
     "start_time": "2022-08-15T16:52:47.770246",
     "status": "completed"
    },
    "tags": []
   },
   "outputs": [
    {
     "data": {
      "application/javascript": [
       "parent.postMessage({\"jupyterEvent\": \"custom.exercise_interaction\", \"data\": {\"outcomeType\": 1, \"valueTowardsCompletion\": 0.3333333333333333, \"interactionType\": 1, \"questionType\": 2, \"questionId\": \"3.1_PlotBlueScatter\", \"learnToolsVersion\": \"0.3.4\", \"failureMessage\": \"\", \"exceptionClass\": \"\", \"trace\": \"\"}}, \"*\")"
      ],
      "text/plain": [
       "<IPython.core.display.Javascript object>"
      ]
     },
     "metadata": {},
     "output_type": "display_data"
    },
    {
     "data": {
      "text/markdown": [
       "<span style=\"color:#33cc33\">Correct</span>"
      ],
      "text/plain": [
       "Correct"
      ]
     },
     "metadata": {},
     "output_type": "display_data"
    },
    {
     "data": {
      "image/png": "[encoded data removed]",
      "text/plain": [
       "<Figure size 432x288 with 1 Axes>"
      ]
     },
     "metadata": {
      "needs_background": "light"
     },
     "output_type": "display_data"
    }
   ],
   "source": [
    "# Scatter plot showing the relationship between 'sugarpercent' and 'winpercent'\n",
    "____ # Your code here\n",
    "sns.scatterplot(x=candy_data['sugarpercent'], y=candy_data['winpercent'])\n",
    "# Check your answer\n",
    "step_3.a.check()"
   ]
  },
  {
   "cell_type": "code",
   "execution_count": 9,
   "id": "b2fbb663",
   "metadata": {
    "execution": {
     "iopub.execute_input": "2022-08-15T16:52:48.076220Z",
     "iopub.status.busy": "2022-08-15T16:52:48.075807Z",
     "iopub.status.idle": "2022-08-15T16:52:48.080586Z",
     "shell.execute_reply": "2022-08-15T16:52:48.079295Z"
    },
    "papermill": {
     "duration": 0.018307,
     "end_time": "2022-08-15T16:52:48.082879",
     "exception": false,
     "start_time": "2022-08-15T16:52:48.064572",
     "status": "completed"
    },
    "tags": []
   },
   "outputs": [],
   "source": [
    "# Lines below will give you a hint or solution code\n",
    "#step_3.a.hint()\n",
    "#step_3.a.solution_plot()"
   ]
  },
  {
   "cell_type": "markdown",
   "id": "ba69b01a",
   "metadata": {
    "papermill": {
     "duration": 0.009709,
     "end_time": "2022-08-15T16:52:48.102744",
     "exception": false,
     "start_time": "2022-08-15T16:52:48.093035",
     "status": "completed"
    },
    "tags": []
   },
   "source": [
    "#### Part B\n",
    "\n",
    "Does the scatter plot show a **strong** correlation between the two variables?  If so, are candies with more sugar relatively more or less popular with the survey respondents?"
   ]
  },
  {
   "cell_type": "code",
   "execution_count": 10,
   "id": "898c81cd",
   "metadata": {
    "execution": {
     "iopub.execute_input": "2022-08-15T16:52:48.125247Z",
     "iopub.status.busy": "2022-08-15T16:52:48.124299Z",
     "iopub.status.idle": "2022-08-15T16:52:48.129259Z",
     "shell.execute_reply": "2022-08-15T16:52:48.128222Z"
    },
    "papermill": {
     "duration": 0.01867,
     "end_time": "2022-08-15T16:52:48.131639",
     "exception": false,
     "start_time": "2022-08-15T16:52:48.112969",
     "status": "completed"
    },
    "tags": []
   },
   "outputs": [],
   "source": [
    "#step_3.b.hint()"
   ]
  },
  {
   "cell_type": "code",
   "execution_count": 11,
   "id": "37f052db",
   "metadata": {
    "execution": {
     "iopub.execute_input": "2022-08-15T16:52:48.154749Z",
     "iopub.status.busy": "2022-08-15T16:52:48.154265Z",
     "iopub.status.idle": "2022-08-15T16:52:48.163372Z",
     "shell.execute_reply": "2022-08-15T16:52:48.162236Z"
    },
    "papermill": {
     "duration": 0.023366,
     "end_time": "2022-08-15T16:52:48.165756",
     "exception": false,
     "start_time": "2022-08-15T16:52:48.142390",
     "status": "completed"
    },
    "tags": []
   },
   "outputs": [
    {
     "data": {
      "application/javascript": [
       "parent.postMessage({\"jupyterEvent\": \"custom.exercise_interaction\", \"data\": {\"interactionType\": 3, \"questionType\": 4, \"questionId\": \"3.2_ThinkBlueScatter\", \"learnToolsVersion\": \"0.3.4\", \"valueTowardsCompletion\": 0.0, \"failureMessage\": \"\", \"exceptionClass\": \"\", \"trace\": \"\", \"outcomeType\": 4}}, \"*\")"
      ],
      "text/plain": [
       "<IPython.core.display.Javascript object>"
      ]
     },
     "metadata": {},
     "output_type": "display_data"
    },
    {
     "data": {
      "text/markdown": [
       "<span style=\"color:#33cc99\">Solution:</span> The scatter plot does not show a strong correlation between the two variables. Since there is no clear relationship between the two variables, this tells us that sugar content does not play a strong role in candy popularity."
      ],
      "text/plain": [
       "Solution: The scatter plot does not show a strong correlation between the two variables. Since there is no clear relationship between the two variables, this tells us that sugar content does not play a strong role in candy popularity."
      ]
     },
     "metadata": {},
     "output_type": "display_data"
    }
   ],
   "source": [
    "# Check your answer (Run this code cell to receive credit!)\n",
    "step_3.b.solution()"
   ]
  },
  {
   "cell_type": "markdown",
   "id": "bc9d0e5b",
   "metadata": {
    "papermill": {
     "duration": 0.010343,
     "end_time": "2022-08-15T16:52:48.186771",
     "exception": false,
     "start_time": "2022-08-15T16:52:48.176428",
     "status": "completed"
    },
    "tags": []
   },
   "source": [
    "## Step 4: Take a closer look\n",
    "\n",
    "#### Part A\n",
    "\n",
    "Create the same scatter plot you created in **Step 3**, but now with a regression line!"
   ]
  },
  {
   "cell_type": "code",
   "execution_count": 12,
   "id": "5a772671",
   "metadata": {
    "execution": {
     "iopub.execute_input": "2022-08-15T16:52:48.208992Z",
     "iopub.status.busy": "2022-08-15T16:52:48.208550Z",
     "iopub.status.idle": "2022-08-15T16:52:48.497040Z",
     "shell.execute_reply": "2022-08-15T16:52:48.495889Z"
    },
    "papermill": {
     "duration": 0.302557,
     "end_time": "2022-08-15T16:52:48.499620",
     "exception": false,
     "start_time": "2022-08-15T16:52:48.197063",
     "status": "completed"
    },
    "tags": []
   },
   "outputs": [
    {
     "data": {
      "application/javascript": [
       "parent.postMessage({\"jupyterEvent\": \"custom.exercise_interaction\", \"data\": {\"outcomeType\": 1, \"valueTowardsCompletion\": 0.3333333333333333, \"interactionType\": 1, \"questionType\": 2, \"questionId\": \"4.1_PlotBlueReg\", \"learnToolsVersion\": \"0.3.4\", \"failureMessage\": \"\", \"exceptionClass\": \"\", \"trace\": \"\"}}, \"*\")"
      ],
      "text/plain": [
       "<IPython.core.display.Javascript object>"
      ]
     },
     "metadata": {},
     "output_type": "display_data"
    },
    {
     "data": {
      "text/markdown": [
       "<span style=\"color:#33cc33\">Correct</span>"
      ],
      "text/plain": [
       "Correct"
      ]
     },
     "metadata": {},
     "output_type": "display_data"
    },
    {
     "data": {
      "image/png": "[encoded data removed]",
      "text/plain": [
       "<Figure size 432x288 with 1 Axes>"
      ]
     },
     "metadata": {
      "needs_background": "light"
     },
     "output_type": "display_data"
    }
   ],
   "source": [
    "# Scatter plot w/ regression line showing the relationship between 'sugarpercent' and 'winpercent'\n",
    "____ # Your code here\n",
    "sns.regplot(x=candy_data['sugarpercent'], y=candy_data['winpercent'])\n",
    "# Check your answer\n",
    "step_4.a.check()"
   ]
  },
  {
   "cell_type": "code",
   "execution_count": 13,
   "id": "35059404",
   "metadata": {
    "execution": {
     "iopub.execute_input": "2022-08-15T16:52:48.523590Z",
     "iopub.status.busy": "2022-08-15T16:52:48.523152Z",
     "iopub.status.idle": "2022-08-15T16:52:48.528334Z",
     "shell.execute_reply": "2022-08-15T16:52:48.527046Z"
    },
    "papermill": {
     "duration": 0.020258,
     "end_time": "2022-08-15T16:52:48.531107",
     "exception": false,
     "start_time": "2022-08-15T16:52:48.510849",
     "status": "completed"
    },
    "tags": []
   },
   "outputs": [],
   "source": [
    "# Lines below will give you a hint or solution code\n",
    "#step_4.a.hint()\n",
    "#step_4.a.solution_plot()"
   ]
  },
  {
   "cell_type": "markdown",
   "id": "6716c5e3",
   "metadata": {
    "papermill": {
     "duration": 0.010384,
     "end_time": "2022-08-15T16:52:48.552292",
     "exception": false,
     "start_time": "2022-08-15T16:52:48.541908",
     "status": "completed"
    },
    "tags": []
   },
   "source": [
    "#### Part B\n",
    "\n",
    "According to the plot above, is there a **slight** correlation between `'winpercent'` and `'sugarpercent'`?  What does this tell you about the candy that people tend to prefer?"
   ]
  },
  {
   "cell_type": "code",
   "execution_count": 14,
   "id": "254f4603",
   "metadata": {
    "execution": {
     "iopub.execute_input": "2022-08-15T16:52:48.575545Z",
     "iopub.status.busy": "2022-08-15T16:52:48.575102Z",
     "iopub.status.idle": "2022-08-15T16:52:48.580504Z",
     "shell.execute_reply": "2022-08-15T16:52:48.579131Z"
    },
    "papermill": {
     "duration": 0.020098,
     "end_time": "2022-08-15T16:52:48.583097",
     "exception": false,
     "start_time": "2022-08-15T16:52:48.562999",
     "status": "completed"
    },
    "tags": []
   },
   "outputs": [],
   "source": [
    "#step_4.b.hint()"
   ]
  },
  {
   "cell_type": "code",
   "execution_count": 15,
   "id": "2438c3cd",
   "metadata": {
    "execution": {
     "iopub.execute_input": "2022-08-15T16:52:48.606274Z",
     "iopub.status.busy": "2022-08-15T16:52:48.605864Z",
     "iopub.status.idle": "2022-08-15T16:52:48.615436Z",
     "shell.execute_reply": "2022-08-15T16:52:48.614249Z"
    },
    "papermill": {
     "duration": 0.023945,
     "end_time": "2022-08-15T16:52:48.617890",
     "exception": false,
     "start_time": "2022-08-15T16:52:48.593945",
     "status": "completed"
    },
    "tags": []
   },
   "outputs": [
    {
     "data": {
      "application/javascript": [
       "parent.postMessage({\"jupyterEvent\": \"custom.exercise_interaction\", \"data\": {\"interactionType\": 3, \"questionType\": 4, \"questionId\": \"4.2_ThinkBlueReg\", \"learnToolsVersion\": \"0.3.4\", \"valueTowardsCompletion\": 0.0, \"failureMessage\": \"\", \"exceptionClass\": \"\", \"trace\": \"\", \"outcomeType\": 4}}, \"*\")"
      ],
      "text/plain": [
       "<IPython.core.display.Javascript object>"
      ]
     },
     "metadata": {},
     "output_type": "display_data"
    },
    {
     "data": {
      "text/markdown": [
       "<span style=\"color:#33cc99\">Solution:</span> Since the regression line has a slightly positive slope, this tells us that there is a slightly positive correlation between `'winpercent'` and `'sugarpercent'`. Thus, people have a slight preference for candies containing relatively more sugar."
      ],
      "text/plain": [
       "Solution: Since the regression line has a slightly positive slope, this tells us that there is a slightly positive correlation between `'winpercent'` and `'sugarpercent'`. Thus, people have a slight preference for candies containing relatively more sugar."
      ]
     },
     "metadata": {},
     "output_type": "display_data"
    }
   ],
   "source": [
    "# Check your answer (Run this code cell to receive credit!)\n",
    "step_4.b.solution()"
   ]
  },
  {
   "cell_type": "markdown",
   "id": "ff606c15",
   "metadata": {
    "papermill": {
     "duration": 0.010472,
     "end_time": "2022-08-15T16:52:48.639403",
     "exception": false,
     "start_time": "2022-08-15T16:52:48.628931",
     "status": "completed"
    },
    "tags": []
   },
   "source": [
    "## Step 5: Chocolate!\n",
    "\n",
    "In the code cell below, create a scatter plot to show the relationship between `'pricepercent'` (on the horizontal x-axis) and `'winpercent'` (on the vertical y-axis). Use the `'chocolate'` column to color-code the points.  _Don't add any regression lines just yet -- you'll do that in the next step!_"
   ]
  },
  {
   "cell_type": "code",
   "execution_count": 16,
   "id": "7f2dee5c",
   "metadata": {
    "execution": {
     "iopub.execute_input": "2022-08-15T16:52:48.662823Z",
     "iopub.status.busy": "2022-08-15T16:52:48.662367Z",
     "iopub.status.idle": "2022-08-15T16:52:48.915828Z",
     "shell.execute_reply": "2022-08-15T16:52:48.914676Z"
    },
    "papermill": {
     "duration": 0.267862,
     "end_time": "2022-08-15T16:52:48.918121",
     "exception": false,
     "start_time": "2022-08-15T16:52:48.650259",
     "status": "completed"
    },
    "tags": []
   },
   "outputs": [
    {
     "data": {
      "application/javascript": [
       "parent.postMessage({\"jupyterEvent\": \"custom.exercise_interaction\", \"data\": {\"outcomeType\": 1, \"valueTowardsCompletion\": 0.3333333333333333, \"interactionType\": 1, \"questionType\": 2, \"questionId\": \"5_ColorScatter\", \"learnToolsVersion\": \"0.3.4\", \"failureMessage\": \"\", \"exceptionClass\": \"\", \"trace\": \"\"}}, \"*\")"
      ],
      "text/plain": [
       "<IPython.core.display.Javascript object>"
      ]
     },
     "metadata": {},
     "output_type": "display_data"
    },
    {
     "data": {
      "text/markdown": [
       "<span style=\"color:#33cc33\">Correct</span>"
      ],
      "text/plain": [
       "Correct"
      ]
     },
     "metadata": {},
     "output_type": "display_data"
    },
    {
     "data": {
      "image/png": "[encoded data removed]",
      "text/plain": [
       "<Figure size 432x288 with 1 Axes>"
      ]
     },
     "metadata": {
      "needs_background": "light"
     },
     "output_type": "display_data"
    }
   ],
   "source": [
    "# Scatter plot showing the relationship between 'pricepercent', 'winpercent', and 'chocolate'\n",
    "____ # Your code here\n",
    "sns.scatterplot(x=candy_data['pricepercent'], y=candy_data['winpercent'], hue=candy_data['chocolate'])\n",
    "# Check your answer\n",
    "step_5.check()"
   ]
  },
  {
   "cell_type": "code",
   "execution_count": 17,
   "id": "1b8d6cf3",
   "metadata": {
    "execution": {
     "iopub.execute_input": "2022-08-15T16:52:48.944702Z",
     "iopub.status.busy": "2022-08-15T16:52:48.943761Z",
     "iopub.status.idle": "2022-08-15T16:52:48.949696Z",
     "shell.execute_reply": "2022-08-15T16:52:48.948250Z"
    },
    "papermill": {
     "duration": 0.022612,
     "end_time": "2022-08-15T16:52:48.952899",
     "exception": false,
     "start_time": "2022-08-15T16:52:48.930287",
     "status": "completed"
    },
    "tags": []
   },
   "outputs": [],
   "source": [
    "# Lines below will give you a hint or solution code\n",
    "#step_5.hint()\n",
    "#step_5.solution_plot()"
   ]
  },
  {
   "cell_type": "markdown",
   "id": "d2b3b0c0",
   "metadata": {
    "papermill": {
     "duration": 0.01256,
     "end_time": "2022-08-15T16:52:48.977569",
     "exception": false,
     "start_time": "2022-08-15T16:52:48.965009",
     "status": "completed"
    },
    "tags": []
   },
   "source": [
    "Can you see any interesting patterns in the scatter plot?  We'll investigate this plot further  by adding regression lines in the next step!\n",
    "\n",
    "## Step 6: Investigate chocolate\n",
    "\n",
    "#### Part A\n",
    "\n",
    "Create the same scatter plot you created in **Step 5**, but now with two regression lines, corresponding to (1) chocolate candies and (2) candies without chocolate."
   ]
  },
  {
   "cell_type": "code",
   "execution_count": 18,
   "id": "8ccea09c",
   "metadata": {
    "execution": {
     "iopub.execute_input": "2022-08-15T16:52:49.009340Z",
     "iopub.status.busy": "2022-08-15T16:52:49.007073Z",
     "iopub.status.idle": "2022-08-15T16:52:49.611061Z",
     "shell.execute_reply": "2022-08-15T16:52:49.609787Z"
    },
    "papermill": {
     "duration": 0.619808,
     "end_time": "2022-08-15T16:52:49.613393",
     "exception": false,
     "start_time": "2022-08-15T16:52:48.993585",
     "status": "completed"
    },
    "tags": []
   },
   "outputs": [
    {
     "data": {
      "application/javascript": [
       "parent.postMessage({\"jupyterEvent\": \"custom.exercise_interaction\", \"data\": {\"outcomeType\": 1, \"valueTowardsCompletion\": 0.3333333333333333, \"interactionType\": 1, \"questionType\": 2, \"questionId\": \"6.1_PlotColorReg\", \"learnToolsVersion\": \"0.3.4\", \"failureMessage\": \"\", \"exceptionClass\": \"\", \"trace\": \"\"}}, \"*\")"
      ],
      "text/plain": [
       "<IPython.core.display.Javascript object>"
      ]
     },
     "metadata": {},
     "output_type": "display_data"
    },
    {
     "data": {
      "text/markdown": [
       "<span style=\"color:#33cc33\">Correct</span>"
      ],
      "text/plain": [
       "Correct"
      ]
     },
     "metadata": {},
     "output_type": "display_data"
    },
    {
     "data": {
      "image/png": "[encoded data removed]",
      "text/plain": [
       "<Figure size 416.375x360 with 1 Axes>"
      ]
     },
     "metadata": {
      "needs_background": "light"
     },
     "output_type": "display_data"
    }
   ],
   "source": [
    "# Color-coded scatter plot w/ regression lines\n",
    "____ # Your code here\n",
    "sns.lmplot(x=\"pricepercent\", y=\"winpercent\", hue=\"chocolate\", data=candy_data)\n",
    "# Check your answer\n",
    "step_6.a.check()"
   ]
  },
  {
   "cell_type": "code",
   "execution_count": 19,
   "id": "f4212114",
   "metadata": {
    "execution": {
     "iopub.execute_input": "2022-08-15T16:52:49.640150Z",
     "iopub.status.busy": "2022-08-15T16:52:49.639404Z",
     "iopub.status.idle": "2022-08-15T16:52:49.645328Z",
     "shell.execute_reply": "2022-08-15T16:52:49.644522Z"
    },
    "papermill": {
     "duration": 0.021796,
     "end_time": "2022-08-15T16:52:49.647727",
     "exception": false,
     "start_time": "2022-08-15T16:52:49.625931",
     "status": "completed"
    },
    "tags": []
   },
   "outputs": [],
   "source": [
    "# Lines below will give you a hint or solution code\n",
    "#step_6.a.hint()\n",
    "#step_6.a.solution_plot()"
   ]
  },
  {
   "cell_type": "markdown",
   "id": "1c7c6ac8",
   "metadata": {
    "papermill": {
     "duration": 0.011829,
     "end_time": "2022-08-15T16:52:49.671779",
     "exception": false,
     "start_time": "2022-08-15T16:52:49.659950",
     "status": "completed"
    },
    "tags": []
   },
   "source": [
    "#### Part B\n",
    "\n",
    "Using the regression lines, what conclusions can you draw about the effects of chocolate and price on candy popularity?"
   ]
  },
  {
   "cell_type": "code",
   "execution_count": 20,
   "id": "11362bdc",
   "metadata": {
    "execution": {
     "iopub.execute_input": "2022-08-15T16:52:49.698645Z",
     "iopub.status.busy": "2022-08-15T16:52:49.698216Z",
     "iopub.status.idle": "2022-08-15T16:52:49.702793Z",
     "shell.execute_reply": "2022-08-15T16:52:49.701513Z"
    },
    "papermill": {
     "duration": 0.021192,
     "end_time": "2022-08-15T16:52:49.705339",
     "exception": false,
     "start_time": "2022-08-15T16:52:49.684147",
     "status": "completed"
    },
    "tags": []
   },
   "outputs": [],
   "source": [
    "#step_6.b.hint()"
   ]
  },
  {
   "cell_type": "code",
   "execution_count": 21,
   "id": "e173dca1",
   "metadata": {
    "execution": {
     "iopub.execute_input": "2022-08-15T16:52:49.732520Z",
     "iopub.status.busy": "2022-08-15T16:52:49.732076Z",
     "iopub.status.idle": "2022-08-15T16:52:49.741624Z",
     "shell.execute_reply": "2022-08-15T16:52:49.740539Z"
    },
    "papermill": {
     "duration": 0.02605,
     "end_time": "2022-08-15T16:52:49.743989",
     "exception": false,
     "start_time": "2022-08-15T16:52:49.717939",
     "status": "completed"
    },
    "tags": []
   },
   "outputs": [
    {
     "data": {
      "application/javascript": [
       "parent.postMessage({\"jupyterEvent\": \"custom.exercise_interaction\", \"data\": {\"interactionType\": 3, \"questionType\": 4, \"questionId\": \"6.2_ThinkColorReg\", \"learnToolsVersion\": \"0.3.4\", \"valueTowardsCompletion\": 0.0, \"failureMessage\": \"\", \"exceptionClass\": \"\", \"trace\": \"\", \"outcomeType\": 4}}, \"*\")"
      ],
      "text/plain": [
       "<IPython.core.display.Javascript object>"
      ]
     },
     "metadata": {},
     "output_type": "display_data"
    },
    {
     "data": {
      "text/markdown": [
       "<span style=\"color:#33cc99\">Solution:</span> We'll begin with the regression line for chocolate candies. Since this line has a slightly positive slope, we can say that more expensive chocolate candies tend to be more popular (than relatively cheaper chocolate candies).  Likewise, since the regression line for candies without chocolate has a negative slope, we can say that if candies don't contain chocolate, they tend to be more popular when they are cheaper.  One important note, however, is that the dataset is quite small -- so we shouldn't invest too much trust in these patterns!  To inspire more confidence in the results, we should add more candies to the dataset."
      ],
      "text/plain": [
       "Solution: We'll begin with the regression line for chocolate candies. Since this line has a slightly positive slope, we can say that more expensive chocolate candies tend to be more popular (than relatively cheaper chocolate candies).  Likewise, since the regression line for candies without chocolate has a negative slope, we can say that if candies don't contain chocolate, they tend to be more popular when they are cheaper.  One important note, however, is that the dataset is quite small -- so we shouldn't invest too much trust in these patterns!  To inspire more confidence in the results, we should add more candies to the dataset."
      ]
     },
     "metadata": {},
     "output_type": "display_data"
    }
   ],
   "source": [
    "# Check your answer (Run this code cell to receive credit!)\n",
    "step_6.b.solution()"
   ]
  },
  {
   "cell_type": "markdown",
   "id": "58f327bf",
   "metadata": {
    "papermill": {
     "duration": 0.012369,
     "end_time": "2022-08-15T16:52:49.769422",
     "exception": false,
     "start_time": "2022-08-15T16:52:49.757053",
     "status": "completed"
    },
    "tags": []
   },
   "source": [
    "## Step 7: Everybody loves chocolate.\n",
    "\n",
    "#### Part A\n",
    "\n",
    "Create a categorical scatter plot to highlight the relationship between `'chocolate'` and `'winpercent'`.  Put `'chocolate'` on the (horizontal) x-axis, and `'winpercent'` on the (vertical) y-axis."
   ]
  },
  {
   "cell_type": "code",
   "execution_count": 22,
   "id": "89eb8c65",
   "metadata": {
    "execution": {
     "iopub.execute_input": "2022-08-15T16:52:49.796369Z",
     "iopub.status.busy": "2022-08-15T16:52:49.795969Z",
     "iopub.status.idle": "2022-08-15T16:52:49.975940Z",
     "shell.execute_reply": "2022-08-15T16:52:49.974903Z"
    },
    "papermill": {
     "duration": 0.196621,
     "end_time": "2022-08-15T16:52:49.978638",
     "exception": false,
     "start_time": "2022-08-15T16:52:49.782017",
     "status": "completed"
    },
    "tags": []
   },
   "outputs": [
    {
     "data": {
      "application/javascript": [
       "parent.postMessage({\"jupyterEvent\": \"custom.exercise_interaction\", \"data\": {\"outcomeType\": 1, \"valueTowardsCompletion\": 0.3333333333333333, \"interactionType\": 1, \"questionType\": 2, \"questionId\": \"7.1_PlotSwarm\", \"learnToolsVersion\": \"0.3.4\", \"failureMessage\": \"\", \"exceptionClass\": \"\", \"trace\": \"\"}}, \"*\")"
      ],
      "text/plain": [
       "<IPython.core.display.Javascript object>"
      ]
     },
     "metadata": {},
     "output_type": "display_data"
    },
    {
     "data": {
      "text/markdown": [
       "<span style=\"color:#33cc33\">Correct</span>"
      ],
      "text/plain": [
       "Correct"
      ]
     },
     "metadata": {},
     "output_type": "display_data"
    },
    {
     "data": {
      "image/png": "[encoded data removed]",
      "text/plain": [
       "<Figure size 432x288 with 1 Axes>"
      ]
     },
     "metadata": {
      "needs_background": "light"
     },
     "output_type": "display_data"
    }
   ],
   "source": [
    "# Scatter plot showing the relationship between 'chocolate' and 'winpercent'\n",
    "____ # Your code here\n",
    "sns.swarmplot(x=candy_data['chocolate'],\n",
    "              y=candy_data['winpercent'])\n",
    "# Check your answer\n",
    "step_7.a.check()"
   ]
  },
  {
   "cell_type": "code",
   "execution_count": 23,
   "id": "7cc0feff",
   "metadata": {
    "execution": {
     "iopub.execute_input": "2022-08-15T16:52:50.007085Z",
     "iopub.status.busy": "2022-08-15T16:52:50.006661Z",
     "iopub.status.idle": "2022-08-15T16:52:50.011384Z",
     "shell.execute_reply": "2022-08-15T16:52:50.010270Z"
    },
    "papermill": {
     "duration": 0.02127,
     "end_time": "2022-08-15T16:52:50.013491",
     "exception": false,
     "start_time": "2022-08-15T16:52:49.992221",
     "status": "completed"
    },
    "tags": []
   },
   "outputs": [],
   "source": [
    "# Lines below will give you a hint or solution code\n",
    "#step_7.a.hint()\n",
    "#step_7.a.solution_plot()"
   ]
  },
  {
   "cell_type": "markdown",
   "id": "32063fb0",
   "metadata": {
    "papermill": {
     "duration": 0.013473,
     "end_time": "2022-08-15T16:52:50.040622",
     "exception": false,
     "start_time": "2022-08-15T16:52:50.027149",
     "status": "completed"
    },
    "tags": []
   },
   "source": [
    "#### Part B\n",
    "\n",
    "You decide to dedicate a section of your report to the fact that chocolate candies tend to be more popular than candies without chocolate.  Which plot is more appropriate to tell this story: the plot from **Step 6**, or the plot from **Step 7**?"
   ]
  },
  {
   "cell_type": "code",
   "execution_count": 24,
   "id": "be372bc0",
   "metadata": {
    "execution": {
     "iopub.execute_input": "2022-08-15T16:52:50.069499Z",
     "iopub.status.busy": "2022-08-15T16:52:50.068353Z",
     "iopub.status.idle": "2022-08-15T16:52:50.073167Z",
     "shell.execute_reply": "2022-08-15T16:52:50.072287Z"
    },
    "papermill": {
     "duration": 0.021503,
     "end_time": "2022-08-15T16:52:50.075480",
     "exception": false,
     "start_time": "2022-08-15T16:52:50.053977",
     "status": "completed"
    },
    "tags": []
   },
   "outputs": [],
   "source": [
    "#step_7.b.hint()"
   ]
  },
  {
   "cell_type": "code",
   "execution_count": 25,
   "id": "08bbb274",
   "metadata": {
    "execution": {
     "iopub.execute_input": "2022-08-15T16:52:50.104368Z",
     "iopub.status.busy": "2022-08-15T16:52:50.103581Z",
     "iopub.status.idle": "2022-08-15T16:52:50.112882Z",
     "shell.execute_reply": "2022-08-15T16:52:50.111874Z"
    },
    "papermill": {
     "duration": 0.026209,
     "end_time": "2022-08-15T16:52:50.115135",
     "exception": false,
     "start_time": "2022-08-15T16:52:50.088926",
     "status": "completed"
    },
    "tags": []
   },
   "outputs": [
    {
     "data": {
      "application/javascript": [
       "parent.postMessage({\"jupyterEvent\": \"custom.exercise_interaction\", \"data\": {\"interactionType\": 3, \"questionType\": 4, \"questionId\": \"7.2_ThinkSwarm\", \"learnToolsVersion\": \"0.3.4\", \"valueTowardsCompletion\": 0.0, \"failureMessage\": \"\", \"exceptionClass\": \"\", \"trace\": \"\", \"outcomeType\": 4}}, \"*\")"
      ],
      "text/plain": [
       "<IPython.core.display.Javascript object>"
      ]
     },
     "metadata": {},
     "output_type": "display_data"
    },
    {
     "data": {
      "text/markdown": [
       "<span style=\"color:#33cc99\">Solution:</span> In this case, the categorical scatter plot from **Step 7** is the more appropriate plot. While both plots tell the desired story, the plot from **Step 6** conveys far more information that could distract from the main point."
      ],
      "text/plain": [
       "Solution: In this case, the categorical scatter plot from **Step 7** is the more appropriate plot. While both plots tell the desired story, the plot from **Step 6** conveys far more information that could distract from the main point."
      ]
     },
     "metadata": {},
     "output_type": "display_data"
    }
   ],
   "source": [
    "# Check your answer (Run this code cell to receive credit!)\n",
    "step_7.b.solution()"
   ]
  },
  {
   "cell_type": "markdown",
   "id": "e833827b",
   "metadata": {
    "papermill": {
     "duration": 0.013042,
     "end_time": "2022-08-15T16:52:50.141559",
     "exception": false,
     "start_time": "2022-08-15T16:52:50.128517",
     "status": "completed"
    },
    "tags": []
   },
   "source": [
    "## Keep going\n",
    "\n",
    "Explore **[histograms and density plots](https://www.kaggle.com/alexisbcook/distributions)**."
   ]
  },
  {
   "cell_type": "markdown",
   "id": "97700f93",
   "metadata": {
    "papermill": {
     "duration": 0.01357,
     "end_time": "2022-08-15T16:52:50.168582",
     "exception": false,
     "start_time": "2022-08-15T16:52:50.155012",
     "status": "completed"
    },
    "tags": []
   },
   "source": [
    "---\n",
    "\n",
    "\n",
    "\n",
    "\n",
    "*Have questions or comments? Visit the [course discussion forum](https://www.kaggle.com/learn/data-visualization/discussion) to chat with other learners.*"
   ]
  }
 ],
 "metadata": {
  "kernelspec": {
   "display_name": "Python 3",
   "language": "python",
   "name": "python3"
  },
  "language_info": {
   "codemirror_mode": {
    "name": "ipython",
    "version": 3
   },
   "file_extension": ".py",
   "mimetype": "text/x-python",
   "name": "python",
   "nbconvert_exporter": "python",
   "pygments_lexer": "ipython3",
   "version": "3.7.12"
  },
  "papermill": {
   "default_parameters": {},
   "duration": 13.871133,
   "end_time": "2022-08-15T16:52:50.903425",
   "environment_variables": {},
   "exception": null,
   "input_path": "__notebook__.ipynb",
   "output_path": "__notebook__.ipynb",
   "parameters": {},
   "start_time": "2022-08-15T16:52:37.032292",
   "version": "2.3.4"
  }
 },
 "nbformat": 4,
 "nbformat_minor": 5
}
